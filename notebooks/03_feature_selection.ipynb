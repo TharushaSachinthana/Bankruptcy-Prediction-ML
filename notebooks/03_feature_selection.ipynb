{
 "cells": [
  {
   "cell_type": "code",
   "execution_count": null,
   "metadata": {
    "vscode": {
     "languageId": "plaintext"
    }
   },
   "outputs": [],
   "source": [
    "# Import Libraries\n",
    "import pandas as pd\n",
    "from sklearn.feature_selection import SelectKBest, chi2, RFE\n",
    "from sklearn.linear_model import LogisticRegression\n",
    "\n",
    "# Load Scaled Data\n",
    "data_path = '../data/processed_data.csv'\n",
    "df = pd.read_csv(data_path)\n",
    "target_column = 'Bankrupt?'\n",
    "\n",
    "X = df.drop(columns=[target_column])\n",
    "y = df[target_column]\n",
    "\n",
    "# Correlation-Based Selection\n",
    "correlations = X.corrwith(y)\n",
    "top_corr_features = correlations.abs().sort_values(ascending=False).head(10).index\n",
    "print(\"Top Correlated Features:\\n\", top_corr_features)\n",
    "\n",
    "# Chi-Squared Test\n",
    "from sklearn.preprocessing import MinMaxScaler\n",
    "min_max_scaler = MinMaxScaler()\n",
    "X_scaled_non_negative = pd.DataFrame(min_max_scaler.fit_transform(X), columns=X.columns)\n",
    "\n",
    "chi2_selector = SelectKBest(chi2, k=10).fit(X_scaled_non_negative, y)\n",
    "chi2_features = X.columns[chi2_selector.get_support()]\n",
    "print(\"Features selected by Chi-Squared Test:\\n\", chi2_features)\n",
    "\n",
    "# RFE\n",
    "rfe_model = LogisticRegression(max_iter=1000, random_state=42)\n",
    "rfe_selector = RFE(rfe_model, n_features_to_select=10).fit(X, y)\n",
    "rfe_features = X.columns[rfe_selector.support_()]\n",
    "print(\"Features selected by RFE:\\n\", rfe_features)\n",
    "\n",
    "# Combine Features\n",
    "final_features = list(set(top_corr_features) | set(chi2_features) | set(rfe_features))\n",
    "print(\"Final Selected Features:\\n\", final_features)\n"
   ]
  }
 ],
 "metadata": {
  "language_info": {
   "name": "python"
  }
 },
 "nbformat": 4,
 "nbformat_minor": 2
}
