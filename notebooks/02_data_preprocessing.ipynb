{
 "cells": [
  {
   "cell_type": "code",
   "execution_count": null,
   "metadata": {
    "vscode": {
     "languageId": "plaintext"
    }
   },
   "outputs": [],
   "source": [
    "# Import Libraries\n",
    "import pandas as pd\n",
    "from sklearn.preprocessing import StandardScaler, LabelEncoder\n",
    "\n",
    "# Load the Dataset\n",
    "data_path = '../data/raw_data.csv'\n",
    "df = pd.read_csv(data_path)\n",
    "\n",
    "# Handle Missing Values\n",
    "for col in df.select_dtypes(include=['float64', 'int64']).columns:\n",
    "    df[col].fillna(df[col].mean(), inplace=True)\n",
    "for col in df.select_dtypes(include=['object']).columns:\n",
    "    df[col].fillna(df[col].mode()[0], inplace=True)\n",
    "\n",
    "print(\"Missing values handled successfully.\")\n",
    "\n",
    "# Encode the Target Column\n",
    "if df['Bankrupt?'].dtype == 'object':\n",
    "    le = LabelEncoder()\n",
    "    df['Bankrupt?'] = le.fit_transform(df['Bankrupt?'])\n",
    "\n",
    "# Separate Features and Target\n",
    "target_column = 'Bankrupt?'\n",
    "X = df.drop(columns=[target_column])\n",
    "y = df[target_column]\n",
    "\n",
    "# Scale Numerical Features\n",
    "scaler = StandardScaler()\n",
    "X_scaled = pd.DataFrame(scaler.fit_transform(X), columns=X.columns)\n",
    "\n",
    "print(\"Data scaling completed.\")\n"
   ]
  }
 ],
 "metadata": {
  "language_info": {
   "name": "python"
  }
 },
 "nbformat": 4,
 "nbformat_minor": 2
}
