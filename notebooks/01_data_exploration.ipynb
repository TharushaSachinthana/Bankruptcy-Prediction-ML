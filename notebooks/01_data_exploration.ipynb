{
 "cells": [
  {
   "cell_type": "code",
   "execution_count": null,
   "metadata": {
    "vscode": {
     "languageId": "plaintext"
    }
   },
   "outputs": [],
   "source": [
    "# Import Libraries\n",
    "import pandas as pd\n",
    "import numpy as np\n",
    "import matplotlib.pyplot as plt\n",
    "import seaborn as sns\n",
    "\n",
    "# Load the Dataset\n",
    "data_path = '../data/raw_data.csv'  # Adjust the path based on your folder structure\n",
    "df = pd.read_csv(data_path)\n",
    "\n",
    "# Display the Dataset\n",
    "print(\"Dataset Overview:\\n\", df.head())\n",
    "print(\"\\nDataset Info:\\n\", df.info())\n",
    "print(\"\\nSummary Statistics:\\n\", df.describe())\n",
    "print(\"\\nMissing Values Count:\\n\", df.isnull().sum())\n",
    "\n",
    "# Check for Class Imbalance\n",
    "sns.countplot(x='Bankrupt?', data=df)\n",
    "plt.title('Class Distribution')\n",
    "plt.show()\n",
    "\n",
    "# Plot Correlation Matrix\n",
    "plt.figure(figsize=(12, 10))\n",
    "sns.heatmap(df.corr(), annot=False, cmap='coolwarm', cbar=True)\n",
    "plt.title('Correlation Matrix')\n",
    "plt.show()\n"
   ]
  }
 ],
 "metadata": {
  "language_info": {
   "name": "python"
  }
 },
 "nbformat": 4,
 "nbformat_minor": 2
}
