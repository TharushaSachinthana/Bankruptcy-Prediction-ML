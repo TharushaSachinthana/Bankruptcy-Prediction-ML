{
 "cells": [
  {
   "cell_type": "code",
   "execution_count": null,
   "metadata": {
    "vscode": {
     "languageId": "plaintext"
    }
   },
   "outputs": [],
   "source": [
    "# Import Libraries\n",
    "import pandas as pd\n",
    "from sklearn.ensemble import RandomForestClassifier\n",
    "from sklearn.svm import SVC\n",
    "from sklearn.neighbors import KNeighborsClassifier\n",
    "from sklearn.model_selection import train_test_split\n",
    "from sklearn.metrics import classification_report, accuracy_score\n",
    "import joblib\n",
    "\n",
    "# Load Selected Features\n",
    "data_path = '../data/processed_data.csv'\n",
    "df = pd.read_csv(data_path)\n",
    "target_column = 'Bankrupt?'\n",
    "\n",
    "X = df.drop(columns=[target_column])\n",
    "y = df[target_column]\n",
    "\n",
    "# Use only the final selected features\n",
    "final_features_path = '../results/selected_features.txt'\n",
    "with open(final_features_path, 'r') as f:\n",
    "    selected_features = f.read().splitlines()\n",
    "X_selected = X[selected_features]\n",
    "\n",
    "# Split Dataset\n",
    "X_train, X_test, y_train, y_test = train_test_split(X_selected, y, test_size=0.2, random_state=42)\n",
    "\n",
    "# Initialize Models\n",
    "models = {\n",
    "    \"Random Forest\": RandomForestClassifier(random_state=42),\n",
    "    \"Support Vector Machine\": SVC(),\n",
    "    \"K-Nearest Neighbors\": KNeighborsClassifier()\n",
    "}\n",
    "\n",
    "# Train and Evaluate Models\n",
    "model_results = {}\n",
    "for name, model in models.items():\n",
    "    model.fit(X_train, y_train)\n",
    "    y_pred = model.predict(X_test)\n",
    "    accuracy = accuracy_score(y_test, y_pred)\n",
    "    print(f\"\\n{name} Classification Report:\\n\", classification_report(y_test, y_pred))\n",
    "    model_results[name] = accuracy\n",
    "\n",
    "# Select the Best Model\n",
    "best_model_name = max(model_results, key=model_results.get)\n",
    "best_model = models[best_model_name]\n",
    "print(f\"Best model: {best_model_name} with accuracy: {model_results[best_model_name]:.2f}\")\n",
    "\n",
    "# Save the Best Model\n",
    "best_model_path = '../results/best_model.pkl'\n",
    "joblib.dump(best_model, best_model_path)\n",
    "print(f\"Best model saved to {best_model_path}.\")\n"
   ]
  }
 ],
 "metadata": {
  "language_info": {
   "name": "python"
  }
 },
 "nbformat": 4,
 "nbformat_minor": 2
}
